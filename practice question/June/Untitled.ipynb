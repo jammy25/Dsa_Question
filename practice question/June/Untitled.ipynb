{
 "cells": [
  {
   "cell_type": "markdown",
   "id": "113994cb",
   "metadata": {},
   "source": [
    "## Single Number"
   ]
  },
  {
   "cell_type": "code",
   "execution_count": 8,
   "id": "a377fc5a",
   "metadata": {},
   "outputs": [
    {
     "name": "stdout",
     "output_type": "stream",
     "text": [
      "4\n"
     ]
    }
   ],
   "source": [
    "arr = [4,1,2,1,2]\n",
    "dic = {}\n",
    "for i in arr:\n",
    "    if i in dic:\n",
    "        dic[i] += 1\n",
    "    else:\n",
    "        dic[i] = 1\n",
    "# print(dic)\n",
    "for key, value in dic.items():\n",
    "    if value == 1:\n",
    "        print(key)"
   ]
  },
  {
   "cell_type": "markdown",
   "id": "bda60c00",
   "metadata": {},
   "source": [
    "## Sort Color"
   ]
  },
  {
   "cell_type": "code",
   "execution_count": 2,
   "id": "b2e312b3",
   "metadata": {},
   "outputs": [
    {
     "name": "stdout",
     "output_type": "stream",
     "text": [
      "[0, 0, 0, 0, 1, 1, 1, 2, 2]\n"
     ]
    }
   ],
   "source": [
    "nums = [2, 0, 1, 1, 1, 0, 0, 2, 0]\n",
    "# nums.sort()\n",
    "# print(nums)\n",
    "a = 0\n",
    "b = 0\n",
    "c = 0\n",
    "\n",
    "for i in nums:\n",
    "    if i == 0:\n",
    "        a += 1\n",
    "    elif i == 1:\n",
    "        b += 1\n",
    "    elif i == 2:\n",
    "        c += 1\n",
    "j = 0\n",
    "while a > 0:\n",
    "    a = a - 1\n",
    "    nums[j] = 0\n",
    "    j += 1\n",
    "while b > 0:\n",
    "    b = b - 1\n",
    "    nums[j] = 1\n",
    "    j += 1\n",
    "while c > 0:\n",
    "    c = c - 1\n",
    "    nums[j] = 2\n",
    "    j += 1\n",
    "print(nums)"
   ]
  },
  {
   "cell_type": "markdown",
   "id": "5605f755",
   "metadata": {},
   "source": [
    "## Reverse Integer"
   ]
  },
  {
   "cell_type": "code",
   "execution_count": null,
   "id": "6e8f6d92",
   "metadata": {},
   "outputs": [],
   "source": [
    "a = 1234546648\n",
    "# b = str(a)\n",
    "# print (b[::-1])\n",
    "\n",
    "d = 0\n",
    "while a > 0:\n",
    "    c = a % 10\n",
    "    a = a // 10\n",
    "    d = (d * 10) + c\n",
    "\n",
    "print(d)"
   ]
  }
 ],
 "metadata": {
  "kernelspec": {
   "display_name": "Python 3 (ipykernel)",
   "language": "python",
   "name": "python3"
  },
  "language_info": {
   "codemirror_mode": {
    "name": "ipython",
    "version": 3
   },
   "file_extension": ".py",
   "mimetype": "text/x-python",
   "name": "python",
   "nbconvert_exporter": "python",
   "pygments_lexer": "ipython3",
   "version": "3.10.4"
  }
 },
 "nbformat": 4,
 "nbformat_minor": 5
}
